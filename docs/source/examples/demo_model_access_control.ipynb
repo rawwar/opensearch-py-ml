{
 "cells": [
  {
   "cell_type": "markdown",
   "metadata": {},
   "source": [
    "# Demo Notebook on Model Access Control"
   ]
  },
  {
   "cell_type": "markdown",
   "metadata": {},
   "source": [
    "If you want to get some background information on Model Access Control, please refer to [Docs](https://opensearch.org/docs/latest/ml-commons-plugin/model-access-control/) for detailed \n",
    "information. This notebook primarily focuses on how to use Model Access Control functionality through `opensearch-py-ml`"
   ]
  },
  {
   "cell_type": "markdown",
   "metadata": {},
   "source": [
    "# 1. Pre-requisites"
   ]
  },
  {
   "cell_type": "markdown",
   "metadata": {},
   "source": []
  }
 ],
 "metadata": {
  "language_info": {
   "name": "python"
  }
 },
 "nbformat": 4,
 "nbformat_minor": 2
}
